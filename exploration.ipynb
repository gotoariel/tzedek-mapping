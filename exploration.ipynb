{
 "cells": [
  {
   "cell_type": "code",
   "execution_count": 1,
   "metadata": {},
   "outputs": [],
   "source": [
    "import json\n",
    "\n",
    "from branca.colormap import linear\n",
    "import folium\n",
    "from folium import Map, Marker, GeoJson, LayerControl\n",
    "import pandas as pd\n",
    "import geopandas as gpd\n",
    "\n",
    "%matplotlib inline"
   ]
  },
  {
   "cell_type": "markdown",
   "metadata": {},
   "source": [
    "## Load shapefile"
   ]
  },
  {
   "cell_type": "code",
   "execution_count": 2,
   "metadata": {},
   "outputs": [],
   "source": [
    "shapefile_path = \"shapefiles/2020/tl_2020_11_tract.shp\""
   ]
  },
  {
   "cell_type": "code",
   "execution_count": 3,
   "metadata": {},
   "outputs": [],
   "source": [
    "gdf = gpd.read_file(shapefile_path)"
   ]
  },
  {
   "cell_type": "code",
   "execution_count": 4,
   "metadata": {},
   "outputs": [
    {
     "data": {
      "text/plain": [
       "<AxesSubplot:>"
      ]
     },
     "execution_count": 4,
     "metadata": {},
     "output_type": "execute_result"
    },
    {
     "data": {
      "image/png": "[encoded data removed]",
      "text/plain": [
       "<Figure size 432x288 with 1 Axes>"
      ]
     },
     "metadata": {
      "needs_background": "light"
     },
     "output_type": "display_data"
    }
   ],
   "source": [
    "gdf.plot()"
   ]
  },
  {
   "cell_type": "code",
   "execution_count": 244,
   "metadata": {},
   "outputs": [],
   "source": [
    "gdf.to_file('shapefiles/dc_census_tracts.json', driver='GeoJSON')"
   ]
  },
  {
   "cell_type": "code",
   "execution_count": 5,
   "metadata": {},
   "outputs": [],
   "source": [
    "gj_path = 'shapefiles/dc_census_tracts.json'\n",
    "geojson = gpd.read_file(gj_path)"
   ]
  },
  {
   "cell_type": "code",
   "execution_count": 6,
   "metadata": {},
   "outputs": [],
   "source": [
    "def embed_map(m):\n",
    "    from IPython.display import IFrame\n",
    "\n",
    "    m.save('inline_map.html')\n",
    "    return IFrame('inline_map.html', width='100%', height='750px')"
   ]
  },
  {
   "cell_type": "markdown",
   "metadata": {},
   "source": [
    "## Load datasets"
   ]
  },
  {
   "cell_type": "code",
   "execution_count": 7,
   "metadata": {},
   "outputs": [],
   "source": [
    "demo_df = pd.read_csv(\"data/redistricting_census_tracts_2020.csv\")\n",
    "housing_df = pd.read_csv(\"data/housing_characteristics.csv\")"
   ]
  },
  {
   "cell_type": "code",
   "execution_count": 8,
   "metadata": {},
   "outputs": [
    {
     "name": "stdout",
     "output_type": "stream",
     "text": [
      "Shapefile dimensions: (206, 13)\n",
      "Demographics dimensions: (206, 315)\n",
      "Housing dimensions: (179, 147)\n"
     ]
    }
   ],
   "source": [
    "print(\"Shapefile dimensions:\", geojson.shape)\n",
    "print(\"Demographics dimensions:\", demo_df.shape)\n",
    "print(\"Housing dimensions:\", housing_df.shape)"
   ]
  },
  {
   "cell_type": "code",
   "execution_count": 249,
   "metadata": {},
   "outputs": [
    {
     "data": {
      "text/plain": [
       "(206, 315)"
      ]
     },
     "execution_count": 249,
     "metadata": {},
     "output_type": "execute_result"
    }
   ],
   "source": [
    "demo_df.shape"
   ]
  },
  {
   "cell_type": "code",
   "execution_count": 107,
   "metadata": {
    "tags": []
   },
   "outputs": [
    {
     "data": {
      "text/plain": [
       "['Area Name-Legal/Statistical Area Description (LSAD) Term-Part Indicator',\n",
       " '18+ Pop 1 race: American Indian Alaskan',\n",
       " '18+ Pop 1 race: Asian',\n",
       " '18+ Pop 1 race: Black',\n",
       " '18+ Pop 1 race: Native Hawaiian Pacific Islander',\n",
       " '18+ Pop 1 race: Other race',\n",
       " '18+ Pop 1 race: White',\n",
       " 'Area Land',\n",
       " 'Area Water',\n",
       " 'Geographic Code Identifier',\n",
       " 'GEOID',\n",
       " 'Hispanic 18+ Pop',\n",
       " 'Housing Unit Count (100%)',\n",
       " 'Non-Minority 18+ Pop (White Non-Hispanic)',\n",
       " 'Not Hispanic 18+ Pop 1 race: American Indian Alaskan',\n",
       " 'Not Hispanic 18+ Pop 1 race: Asian',\n",
       " 'Not Hispanic 18+ Pop 1 race: Black',\n",
       " 'Not Hispanic 18+ Pop 1 race: Native Hawaiian Pacific Islander',\n",
       " 'Not Hispanic 18+ Pop 1 race: Other race',\n",
       " 'Not Hispanic Pop of 1 race: American Indian Alaskan',\n",
       " 'Not Hispanic Pop of 1 race: Asian',\n",
       " 'Not Hispanic Pop of 1 race: Black',\n",
       " 'Not Hispanic Pop of 1 race: Native Hawaiian Pacific Islander',\n",
       " 'Not Hispanic Pop of 1 race: Other Race',\n",
       " 'Occupied Housing Units',\n",
       " 'Pop of 1 race: American Indian Alaskan',\n",
       " 'Pop of 1 race: Asian',\n",
       " 'Pop of 1 race: Black',\n",
       " 'Pop of 1 race: Native Hawaiian Pacific Islander',\n",
       " 'Pop of 1 race: Other Race',\n",
       " 'Pop of 1 race: White',\n",
       " 'Population Count (100%)',\n",
       " 'State (FIPS)',\n",
       " 'State/US-Abbreviation (USPS)',\n",
       " 'Summary Level',\n",
       " 'Total Group Quarters Population',\n",
       " 'Total Group Quarters Population: Institutionalized population',\n",
       " 'Total Group Quarters Population: Institutionalized population: Correctional facilities for adults',\n",
       " 'Total Group Quarters Population: Institutionalized population: Juvenile facilities',\n",
       " 'Total Group Quarters Population: Institutionalized population: Nursing facilities/Skilled-nursing facilities',\n",
       " 'Total Group Quarters Population: Institutionalized population: Other institutional facilities',\n",
       " 'Total Group Quarters Population: Noninstitutionalized population',\n",
       " 'Total Group Quarters Population: Noninstitutionalized population: College/University student housing',\n",
       " 'Total Group Quarters Population: Noninstitutionalized population: Military quarters',\n",
       " 'Total Group Quarters Population: Noninstitutionalized population: Other noninstitutional facilities',\n",
       " 'Total Hispanic Population',\n",
       " 'Total Housing Units',\n",
       " 'Total Non-Minority Population (White Not Hispanic)',\n",
       " 'Total Pop 18+',\n",
       " 'Total Pop of 1 Race',\n",
       " 'Total Population',\n",
       " 'Total Population.1',\n",
       " 'Total Population over 18',\n",
       " 'Total Population over 18: Not Hispanic or Latino',\n",
       " 'Total Population over 18: Not Hispanic or Latino: Population of five races: Black or African American; American Indian and Alaska Native; Asian; Native Hawaiian and Other Pacific Islander; Some Other Race',\n",
       " 'Total Population over 18: Not Hispanic or Latino: Population of five races: White; American Indian and Alaska Native; Asian; Native Hawaiian and Other Pacific Islander; Some Other Race',\n",
       " 'Total Population over 18: Not Hispanic or Latino: Population of five races: White; Black or African American; American Indian and Alaska Native; Asian; Native Hawaiian and Other Pacific Islander',\n",
       " 'Total Population over 18: Not Hispanic or Latino: Population of five races: White; Black or African American; American Indian and Alaska Native; Asian; Some Other Race',\n",
       " 'Total Population over 18: Not Hispanic or Latino: Population of five races: White; Black or African American; American Indian and Alaska Native; Native Hawaiian and Other Pacific Islander; Some Other Race',\n",
       " 'Total Population over 18: Not Hispanic or Latino: Population of five races: White; Black or African American; Asian; Native Hawaiian and Other Pacific Islander; Some Other Race',\n",
       " 'Total Population over 18: Not Hispanic or Latino: Population of four races: American Indian and Alaska Native; Asian; Native Hawaiian and Other Pacific Islander; Some Other Race',\n",
       " 'Total Population over 18: Not Hispanic or Latino: Population of four races: Black or African American; American Indian and Alaska Native; Asian; Native Hawaiian and Other Pacific Islander',\n",
       " 'Total Population over 18: Not Hispanic or Latino: Population of four races: Black or African American; American Indian and Alaska Native; Asian; Some Other Race',\n",
       " 'Total Population over 18: Not Hispanic or Latino: Population of four races: Black or African American; American Indian and Alaska Native; Native Hawaiian and Other Pacific Islander; Some Other Race',\n",
       " 'Total Population over 18: Not Hispanic or Latino: Population of four races: Black or African American; Asian; Native Hawaiian and Other Pacific Islander; Some Other Race',\n",
       " 'Total Population over 18: Not Hispanic or Latino: Population of four races: Population of five races',\n",
       " 'Total Population over 18: Not Hispanic or Latino: Population of four races: Population of six races',\n",
       " 'Total Population over 18: Not Hispanic or Latino: Population of four races: White; American Indian and Alaska Native; Asian; Native Hawaiian and Other Pacific Islander',\n",
       " 'Total Population over 18: Not Hispanic or Latino: Population of four races: White; American Indian and Alaska Native; Asian; Some Other Race',\n",
       " 'Total Population over 18: Not Hispanic or Latino: Population of four races: White; American Indian and Alaska Native; Native Hawaiian and Other Pacific Islander; Some Other Race',\n",
       " 'Total Population over 18: Not Hispanic or Latino: Population of four races: White; Asian; Native Hawaiian and Other Pacific Islander; Some Other Race',\n",
       " 'Total Population over 18: Not Hispanic or Latino: Population of four races: White; Black or African American; American Indian and Alaska Native; Asian',\n",
       " 'Total Population over 18: Not Hispanic or Latino: Population of four races: White; Black or African American; American Indian and Alaska Native; Native Hawaiian and Other Pacific Islander',\n",
       " 'Total Population over 18: Not Hispanic or Latino: Population of four races: White; Black or African American; American Indian and Alaska Native; Some Other Race',\n",
       " 'Total Population over 18: Not Hispanic or Latino: Population of four races: White; Black or African American; Asian; Native Hawaiian and Other Pacific Islander',\n",
       " 'Total Population over 18: Not Hispanic or Latino: Population of four races: White; Black or African American; Asian; Some Other Race',\n",
       " 'Total Population over 18: Not Hispanic or Latino: Population of four races: White; Black or African American; Native Hawaiian and Other Pacific Islander; Some Other Race',\n",
       " 'Total Population over 18: Not Hispanic or Latino: Population of one race',\n",
       " 'Total Population over 18: Not Hispanic or Latino: Population of six races: White; Black or African American; American Indian and Alaska Native; Asian; Native Hawaiian and Other Pacific Islander; Some Other Race',\n",
       " 'Total Population over 18: Not Hispanic or Latino: Population of three races',\n",
       " 'Total Population over 18: Not Hispanic or Latino: Population of three races: American Indian and Alaska Native; Asian; Native Hawaiian and Other Pacific Islander',\n",
       " 'Total Population over 18: Not Hispanic or Latino: Population of three races: American Indian and Alaska Native; Asian; Some Other Race',\n",
       " 'Total Population over 18: Not Hispanic or Latino: Population of three races: American Indian and Alaska Native; Native Hawaiian and Other Pacific Islander; Some Other Race',\n",
       " 'Total Population over 18: Not Hispanic or Latino: Population of three races: Asian; Native Hawaiian and Other Pacific Islander; Some Other Race',\n",
       " 'Total Population over 18: Not Hispanic or Latino: Population of three races: Black or African American; American Indian and Alaska Native; Asian',\n",
       " 'Total Population over 18: Not Hispanic or Latino: Population of three races: Black or African American; American Indian and Alaska Native; Native Hawaiian and Other Pacific Islander',\n",
       " 'Total Population over 18: Not Hispanic or Latino: Population of three races: Black or African American; American Indian and Alaska Native; Some Other Race',\n",
       " 'Total Population over 18: Not Hispanic or Latino: Population of three races: Black or African American; Asian; Native Hawaiian and Other Pacific Islander',\n",
       " 'Total Population over 18: Not Hispanic or Latino: Population of three races: Black or African American; Asian; Some Other Race',\n",
       " 'Total Population over 18: Not Hispanic or Latino: Population of three races: Black or African American; Native Hawaiian and Other Pacific Islander; Some Other Race',\n",
       " 'Total Population over 18: Not Hispanic or Latino: Population of three races: Population of four races',\n",
       " 'Total Population over 18: Not Hispanic or Latino: Population of three races: White; American Indian and Alaska Native; Asian',\n",
       " 'Total Population over 18: Not Hispanic or Latino: Population of three races: White; American Indian and Alaska Native; Native Hawaiian and Other Pacific Islander',\n",
       " 'Total Population over 18: Not Hispanic or Latino: Population of three races: White; American Indian and Alaska Native; Some Other Race',\n",
       " 'Total Population over 18: Not Hispanic or Latino: Population of three races: White; Asian; Native Hawaiian and Other Pacific Islander',\n",
       " 'Total Population over 18: Not Hispanic or Latino: Population of three races: White; Asian; Some Other Race',\n",
       " 'Total Population over 18: Not Hispanic or Latino: Population of three races: White; Black or African American; American Indian and Alaska Native',\n",
       " 'Total Population over 18: Not Hispanic or Latino: Population of three races: White; Black or African American; Asian',\n",
       " 'Total Population over 18: Not Hispanic or Latino: Population of three races: White; Black or African American; Native Hawaiian and Other Pacific Islander',\n",
       " 'Total Population over 18: Not Hispanic or Latino: Population of three races: White; Black or African American; Some Other Race',\n",
       " 'Total Population over 18: Not Hispanic or Latino: Population of three races: White; Native Hawaiian and Other Pacific Islander; Some Other Race',\n",
       " 'Total Population over 18: Not Hispanic or Latino: Population of two or more races',\n",
       " 'Total Population over 18: Not Hispanic or Latino: Population of two or more races: American Indian and Alaska Native; Asian',\n",
       " 'Total Population over 18: Not Hispanic or Latino: Population of two or more races: American Indian and Alaska Native; Native Hawaiian and Other Pacific Islander',\n",
       " 'Total Population over 18: Not Hispanic or Latino: Population of two or more races: American Indian and Alaska Native; Some Other Race',\n",
       " 'Total Population over 18: Not Hispanic or Latino: Population of two or more races: Asian; Native Hawaiian and Other Pacific Islander',\n",
       " 'Total Population over 18: Not Hispanic or Latino: Population of two or more races: Asian; Some Other Race',\n",
       " 'Total Population over 18: Not Hispanic or Latino: Population of two or more races: Black or African American; American Indian and Alaska Native',\n",
       " 'Total Population over 18: Not Hispanic or Latino: Population of two or more races: Black or African American; Asian',\n",
       " 'Total Population over 18: Not Hispanic or Latino: Population of two or more races: Black or African American; Native Hawaiian and Other Pacific Islander',\n",
       " 'Total Population over 18: Not Hispanic or Latino: Population of two or more races: Black or African American; Some Other Race',\n",
       " 'Total Population over 18: Not Hispanic or Latino: Population of two or more races: Native Hawaiian and Other Pacific Islander; Some Other Race',\n",
       " 'Total Population over 18: Not Hispanic or Latino: Population of two or more races: White; American Indian and Alaska Native',\n",
       " 'Total Population over 18: Not Hispanic or Latino: Population of two or more races: White; Asian',\n",
       " 'Total Population over 18: Not Hispanic or Latino: Population of two or more races: White; Black or African American',\n",
       " 'Total Population over 18: Not Hispanic or Latino: Population of two or more races: White; Native Hawaiian and Other Pacific Islander',\n",
       " 'Total Population over 18: Not Hispanic or Latino: Population of two or more races: White; Some Other Race',\n",
       " 'Total Population over 18: Not Hispanic or Latino: Population of two races',\n",
       " 'Total Population over 18: Population of five races',\n",
       " 'Total Population over 18: Population of five races: Black or African American; American Indian and Alaska Native; Asian; Native Hawaiian and Other Pacific Islander; Some Other Race',\n",
       " 'Total Population over 18: Population of five races: White; American Indian and Alaska Native; Asian; Native Hawaiian and Other Pacific Islander; Some Other Race',\n",
       " 'Total Population over 18: Population of five races: White; Black or African American; American Indian and Alaska Native; Asian; Native Hawaiian and Other Pacific Islander',\n",
       " 'Total Population over 18: Population of five races: White; Black or African American; American Indian and Alaska Native; Asian; Some Other Race',\n",
       " 'Total Population over 18: Population of five races: White; Black or African American; American Indian and Alaska Native; Native Hawaiian and Other Pacific Islander; Some Other Race',\n",
       " 'Total Population over 18: Population of five races: White; Black or African American; Asian; Native Hawaiian and Other Pacific Islander; Some Other Race',\n",
       " 'Total Population over 18: Population of four races',\n",
       " 'Total Population over 18: Population of four races: American Indian and Alaska Native; Asian; Native Hawaiian and Other Pacific Islander; Some Other Race',\n",
       " 'Total Population over 18: Population of four races: Black or African American; American Indian and Alaska Native; Asian; Native Hawaiian and Other Pacific Islander',\n",
       " 'Total Population over 18: Population of four races: Black or African American; American Indian and Alaska Native; Asian; Some Other Race',\n",
       " 'Total Population over 18: Population of four races: Black or African American; American Indian and Alaska Native; Native Hawaiian and Other Pacific Islander; Some Other Race',\n",
       " 'Total Population over 18: Population of four races: Black or African American; Asian; Native Hawaiian and Other Pacific Islander; Some Other Race',\n",
       " 'Total Population over 18: Population of four races: White; American Indian and Alaska Native; Asian; Native Hawaiian and Other Pacific Islander',\n",
       " 'Total Population over 18: Population of four races: White; American Indian and Alaska Native; Asian; Some Other Race',\n",
       " 'Total Population over 18: Population of four races: White; American Indian and Alaska Native; Native Hawaiian and Other Pacific Islander; Some Other Race',\n",
       " 'Total Population over 18: Population of four races: White; Asian; Native Hawaiian and Other Pacific Islander; Some Other Race',\n",
       " 'Total Population over 18: Population of four races: White; Black or African American; American Indian and Alaska Native; Asian',\n",
       " 'Total Population over 18: Population of four races: White; Black or African American; American Indian and Alaska Native; Native Hawaiian and Other Pacific Islander',\n",
       " 'Total Population over 18: Population of four races: White; Black or African American; American Indian and Alaska Native; Some Other Race',\n",
       " 'Total Population over 18: Population of four races: White; Black or African American; Asian; Native Hawaiian and Other Pacific Islander',\n",
       " 'Total Population over 18: Population of four races: White; Black or African American; Asian; Some Other Race',\n",
       " 'Total Population over 18: Population of four races: White; Black or African American; Native Hawaiian and Other Pacific Islander; Some Other Race',\n",
       " 'Total Population over 18: Population of one race',\n",
       " 'Total Population over 18: Population of six races',\n",
       " 'Total Population over 18: Population of six races: White; Black or African American; American Indian and Alaska Native; Asian; Native Hawaiian and Other Pacific Islander; Some Other Race',\n",
       " 'Total Population over 18: Population of three races',\n",
       " 'Total Population over 18: Population of three races: American Indian and Alaska Native; Asian; Native Hawaiian and Other Pacific Islander',\n",
       " 'Total Population over 18: Population of three races: American Indian and Alaska Native; Asian; Some Other Race',\n",
       " 'Total Population over 18: Population of three races: American Indian and Alaska Native; Native Hawaiian and Other Pacific Islander; Some Other Race',\n",
       " 'Total Population over 18: Population of three races: Asian; Native Hawaiian and Other Pacific Islander; Some Other Race',\n",
       " 'Total Population over 18: Population of three races: Black or African American; American Indian and Alaska Native; Asian',\n",
       " 'Total Population over 18: Population of three races: Black or African American; American Indian and Alaska Native; Native Hawaiian and Other Pacific Islander',\n",
       " 'Total Population over 18: Population of three races: Black or African American; American Indian and Alaska Native; Some Other Race',\n",
       " 'Total Population over 18: Population of three races: Black or African American; Asian; Native Hawaiian and Other Pacific Islander',\n",
       " 'Total Population over 18: Population of three races: Black or African American; Asian; Some Other Race',\n",
       " 'Total Population over 18: Population of three races: Black or African American; Native Hawaiian and Other Pacific Islander; Some Other Race',\n",
       " 'Total Population over 18: Population of three races: White; American Indian and Alaska Native; Asian',\n",
       " 'Total Population over 18: Population of three races: White; American Indian and Alaska Native; Native Hawaiian and Other Pacific Islander',\n",
       " 'Total Population over 18: Population of three races: White; American Indian and Alaska Native; Some Other Race',\n",
       " 'Total Population over 18: Population of three races: White; Asian; Native Hawaiian and Other Pacific Islander',\n",
       " 'Total Population over 18: Population of three races: White; Asian; Some Other Race',\n",
       " 'Total Population over 18: Population of three races: White; Black or African American; American Indian and Alaska Native',\n",
       " 'Total Population over 18: Population of three races: White; Black or African American; Asian',\n",
       " 'Total Population over 18: Population of three races: White; Black or African American; Native Hawaiian and Other Pacific Islander',\n",
       " 'Total Population over 18: Population of three races: White; Black or African American; Some Other Race',\n",
       " 'Total Population over 18: Population of three races: White; Native Hawaiian and Other Pacific Islander; Some Other Race',\n",
       " 'Total Population over 18: Population of two or more races',\n",
       " 'Total Population over 18: Population of two or more races: American Indian and Alaska Native; Asian',\n",
       " 'Total Population over 18: Population of two or more races: American Indian and Alaska Native; Native Hawaiian and Other Pacific Islander',\n",
       " 'Total Population over 18: Population of two or more races: American Indian and Alaska Native; Some Other Race',\n",
       " 'Total Population over 18: Population of two or more races: Asian; Native Hawaiian and Other Pacific Islander',\n",
       " 'Total Population over 18: Population of two or more races: Asian; Some Other Race',\n",
       " 'Total Population over 18: Population of two or more races: Black or African American; American Indian and Alaska Native',\n",
       " 'Total Population over 18: Population of two or more races: Black or African American; Asian',\n",
       " 'Total Population over 18: Population of two or more races: Black or African American; Native Hawaiian and Other Pacific Islander',\n",
       " 'Total Population over 18: Population of two or more races: Black or African American; Some Other Race',\n",
       " 'Total Population over 18: Population of two or more races: Native Hawaiian and Other Pacific Islander; Some Other Race',\n",
       " 'Total Population over 18: Population of two or more races: Population of two races',\n",
       " 'Total Population over 18: Population of two or more races: White; American Indian and Alaska Native',\n",
       " 'Total Population over 18: Population of two or more races: White; Asian',\n",
       " 'Total Population over 18: Population of two or more races: White; Black or African American',\n",
       " 'Total Population over 18: Population of two or more races: White; Native Hawaiian and Other Pacific Islander',\n",
       " 'Total Population over 18: Population of two or more races: White; Some Other Race',\n",
       " 'Total Population: Not Hispanic or Latino',\n",
       " 'Total Population: Not Hispanic or Latino: Population of five races:',\n",
       " 'Total Population: Not Hispanic or Latino: Population of five races:: Black or African American; American Indian and Alaska Native; Asian; Native Hawaiian and Other Pacific Islander; Some Other Race',\n",
       " 'Total Population: Not Hispanic or Latino: Population of five races:: White; American Indian and Alaska Native; Asian; Native Hawaiian and Other Pacific Islander; Some Other Race',\n",
       " 'Total Population: Not Hispanic or Latino: Population of five races:: White; Black or African American; American Indian and Alaska Native; Asian; Native Hawaiian and Other Pacific Islander',\n",
       " 'Total Population: Not Hispanic or Latino: Population of five races:: White; Black or African American; American Indian and Alaska Native; Asian; Some Other Race',\n",
       " 'Total Population: Not Hispanic or Latino: Population of five races:: White; Black or African American; American Indian and Alaska Native; Native Hawaiian and Other Pacific Islander; Some Other Race',\n",
       " 'Total Population: Not Hispanic or Latino: Population of five races:: White; Black or African American; Asian; Native Hawaiian and Other Pacific Islander; Some Other Race',\n",
       " 'Total Population: Not Hispanic or Latino: Population of four races',\n",
       " 'Total Population: Not Hispanic or Latino: Population of four races: American Indian and Alaska Native; Asian; Native Hawaiian and Other Pacific Islander; Some Other Race',\n",
       " 'Total Population: Not Hispanic or Latino: Population of four races: Black or African American; American Indian and Alaska Native; Asian; Native Hawaiian and Other Pacific Islander',\n",
       " 'Total Population: Not Hispanic or Latino: Population of four races: Black or African American; American Indian and Alaska Native; Asian; Some Other Race',\n",
       " 'Total Population: Not Hispanic or Latino: Population of four races: Black or African American; American Indian and Alaska Native; Native Hawaiian and Other Pacific Islander; Some Other Race',\n",
       " 'Total Population: Not Hispanic or Latino: Population of four races: Black or African American; Asian; Native Hawaiian and Other Pacific Islander; Some Other Race',\n",
       " 'Total Population: Not Hispanic or Latino: Population of four races: White; American Indian and Alaska Native; Asian; Native Hawaiian and Other Pacific Islander',\n",
       " 'Total Population: Not Hispanic or Latino: Population of four races: White; American Indian and Alaska Native; Asian; Some Other Race',\n",
       " 'Total Population: Not Hispanic or Latino: Population of four races: White; American Indian and Alaska Native; Native Hawaiian and Other Pacific Islander; Some Other Race',\n",
       " 'Total Population: Not Hispanic or Latino: Population of four races: White; Asian; Native Hawaiian and Other Pacific Islander; Some Other Race',\n",
       " 'Total Population: Not Hispanic or Latino: Population of four races: White; Black or African American; American Indian and Alaska Native; Asian',\n",
       " 'Total Population: Not Hispanic or Latino: Population of four races: White; Black or African American; American Indian and Alaska Native; Native Hawaiian and Other Pacific Islander',\n",
       " 'Total Population: Not Hispanic or Latino: Population of four races: White; Black or African American; American Indian and Alaska Native; Some Other Race',\n",
       " 'Total Population: Not Hispanic or Latino: Population of four races: White; Black or African American; Asian; Native Hawaiian and Other Pacific Islander',\n",
       " 'Total Population: Not Hispanic or Latino: Population of four races: White; Black or African American; Asian; Some Other Race',\n",
       " 'Total Population: Not Hispanic or Latino: Population of four races: White; Black or African American; Native Hawaiian and Other Pacific Islander; Some Other Race',\n",
       " 'Total Population: Not Hispanic or Latino: Population of one race',\n",
       " 'Total Population: Not Hispanic or Latino: Population of six races:',\n",
       " 'Total Population: Not Hispanic or Latino: Population of six races:: White; Black or African American; American Indian and Alaska Native; Asian; Native Hawaiian and Other Pacific Islander; Some Other Race',\n",
       " 'Total Population: Not Hispanic or Latino: Population of three races',\n",
       " 'Total Population: Not Hispanic or Latino: Population of three races: American Indian and Alaska Native; Asian; Native Hawaiian and Other Pacific Islander',\n",
       " 'Total Population: Not Hispanic or Latino: Population of three races: American Indian and Alaska Native; Asian; Some Other Race',\n",
       " 'Total Population: Not Hispanic or Latino: Population of three races: American Indian and Alaska Native; Native Hawaiian and Other Pacific Islander; Some Other Race',\n",
       " 'Total Population: Not Hispanic or Latino: Population of three races: Asian; Native Hawaiian and Other Pacific Islander; Some Other Race',\n",
       " 'Total Population: Not Hispanic or Latino: Population of three races: Black or African American; American Indian and Alaska Native; Asian',\n",
       " 'Total Population: Not Hispanic or Latino: Population of three races: Black or African American; American Indian and Alaska Native; Native Hawaiian and Other Pacific Islander',\n",
       " 'Total Population: Not Hispanic or Latino: Population of three races: Black or African American; American Indian and Alaska Native; Some Other Race',\n",
       " 'Total Population: Not Hispanic or Latino: Population of three races: Black or African American; Asian; Native Hawaiian and Other Pacific Islander',\n",
       " 'Total Population: Not Hispanic or Latino: Population of three races: Black or African American; Asian; Some Other Race',\n",
       " 'Total Population: Not Hispanic or Latino: Population of three races: Black or African American; Native Hawaiian and Other Pacific Islander; Some Other Race',\n",
       " 'Total Population: Not Hispanic or Latino: Population of three races: White; American Indian and Alaska Native; Asian',\n",
       " 'Total Population: Not Hispanic or Latino: Population of three races: White; American Indian and Alaska Native; Native Hawaiian and Other Pacific Islander',\n",
       " 'Total Population: Not Hispanic or Latino: Population of three races: White; American Indian and Alaska Native; Some Other Race',\n",
       " 'Total Population: Not Hispanic or Latino: Population of three races: White; Asian; Native Hawaiian and Other Pacific Islander',\n",
       " 'Total Population: Not Hispanic or Latino: Population of three races: White; Asian; Some Other Race',\n",
       " 'Total Population: Not Hispanic or Latino: Population of three races: White; Black or African American; American Indian and Alaska Native',\n",
       " 'Total Population: Not Hispanic or Latino: Population of three races: White; Black or African American; Asian',\n",
       " 'Total Population: Not Hispanic or Latino: Population of three races: White; Black or African American; Native Hawaiian and Other Pacific Islander',\n",
       " 'Total Population: Not Hispanic or Latino: Population of three races: White; Black or African American; Some Other Race',\n",
       " 'Total Population: Not Hispanic or Latino: Population of three races: White; Native Hawaiian and Other Pacific Islander; Some Other Race',\n",
       " 'Total Population: Not Hispanic or Latino: Population of two or more races',\n",
       " 'Total Population: Not Hispanic or Latino: Population of two or more races: American Indian and Alaska Native; Asian',\n",
       " 'Total Population: Not Hispanic or Latino: Population of two or more races: American Indian and Alaska Native; Native Hawaiian and Other Pacific Islander',\n",
       " 'Total Population: Not Hispanic or Latino: Population of two or more races: American Indian and Alaska Native; Some Other Race',\n",
       " 'Total Population: Not Hispanic or Latino: Population of two or more races: Asian; Native Hawaiian and Other Pacific Islander',\n",
       " 'Total Population: Not Hispanic or Latino: Population of two or more races: Asian; Some Other Race',\n",
       " 'Total Population: Not Hispanic or Latino: Population of two or more races: Black or African American; American Indian and Alaska Native',\n",
       " 'Total Population: Not Hispanic or Latino: Population of two or more races: Black or African American; Asian',\n",
       " 'Total Population: Not Hispanic or Latino: Population of two or more races: Black or African American; Native Hawaiian and Other Pacific Islander',\n",
       " 'Total Population: Not Hispanic or Latino: Population of two or more races: Black or African American; Some Other Race',\n",
       " 'Total Population: Not Hispanic or Latino: Population of two or more races: Native Hawaiian and Other Pacific Islander; Some Other Race',\n",
       " 'Total Population: Not Hispanic or Latino: Population of two or more races: Population of two races',\n",
       " 'Total Population: Not Hispanic or Latino: Population of two or more races: White; American Indian and Alaska Native',\n",
       " 'Total Population: Not Hispanic or Latino: Population of two or more races: White; Asian',\n",
       " 'Total Population: Not Hispanic or Latino: Population of two or more races: White; Black or African American',\n",
       " 'Total Population: Not Hispanic or Latino: Population of two or more races: White; Native Hawaiian and Other Pacific Islander',\n",
       " 'Total Population: Not Hispanic or Latino: Population of two or more races: White; Some Other Race',\n",
       " 'Total Population: Population of five races',\n",
       " 'Total Population: Population of five races: Black or African American; American Indian and Alaska Native; Asian; Native Hawaiian and Other Pacific Islander; Some Other Race',\n",
       " 'Total Population: Population of five races: Population of six races:',\n",
       " 'Total Population: Population of five races: White; American Indian and Alaska Native; Asian; Native Hawaiian and Other Pacific Islander; Some Other Race',\n",
       " 'Total Population: Population of five races: White; Black or African American; American Indian and Alaska Native; Asian; Native Hawaiian and Other Pacific Islander',\n",
       " 'Total Population: Population of five races: White; Black or African American; American Indian and Alaska Native; Asian; Native Hawaiian and Other Pacific Islander; Some Other Race',\n",
       " 'Total Population: Population of five races: White; Black or African American; American Indian and Alaska Native; Asian; Some Other Race',\n",
       " 'Total Population: Population of five races: White; Black or African American; American Indian and Alaska Native; Native Hawaiian and Other Pacific Islander; Some Other Race',\n",
       " 'Total Population: Population of five races: White; Black or African American; Asian; Native Hawaiian and Other Pacific Islander; Some Other Race',\n",
       " 'Total Population: Population of four races',\n",
       " 'Total Population: Population of four races: American Indian and Alaska Native; Asian; Native Hawaiian and Other Pacific Islander; Some Other Race',\n",
       " 'Total Population: Population of four races: Black or African American; American Indian and Alaska Native; Asian; Native Hawaiian and Other Pacific Islander',\n",
       " 'Total Population: Population of four races: Black or African American; American Indian and Alaska Native; Asian; Some Other Race',\n",
       " 'Total Population: Population of four races: Black or African American; American Indian and Alaska Native; Native Hawaiian and Other Pacific Islander; Some Other Race',\n",
       " 'Total Population: Population of four races: Black or African American; Asian; Native Hawaiian and Other Pacific Islander; Some Other Race',\n",
       " 'Total Population: Population of four races: White; American Indian and Alaska Native; Asian; Native Hawaiian and Other Pacific Islander',\n",
       " 'Total Population: Population of four races: White; American Indian and Alaska Native; Asian; Some Other Race',\n",
       " 'Total Population: Population of four races: White; American Indian and Alaska Native; Native Hawaiian and Other Pacific Islander; Some Other Race',\n",
       " 'Total Population: Population of four races: White; Asian; Native Hawaiian and Other Pacific Islander; Some Other Race',\n",
       " 'Total Population: Population of four races: White; Black or African American; American Indian and Alaska Native; Asian',\n",
       " 'Total Population: Population of four races: White; Black or African American; American Indian and Alaska Native; Native Hawaiian and Other Pacific Islander',\n",
       " 'Total Population: Population of four races: White; Black or African American; American Indian and Alaska Native; Some Other Race',\n",
       " 'Total Population: Population of four races: White; Black or African American; Asian; Native Hawaiian and Other Pacific Islander',\n",
       " 'Total Population: Population of four races: White; Black or African American; Asian; Some Other Race',\n",
       " 'Total Population: Population of four races: White; Black or African American; Native Hawaiian and Other Pacific Islander; Some Other Race',\n",
       " 'Total Population: Population of three races',\n",
       " 'Total Population: Population of three races: American Indian and Alaska Native; Asian; Native Hawaiian and Other Pacific Islander',\n",
       " 'Total Population: Population of three races: American Indian and Alaska Native; Asian; Some Other Race',\n",
       " 'Total Population: Population of three races: American Indian and Alaska Native; Native Hawaiian and Other Pacific Islander; Some Other Race',\n",
       " 'Total Population: Population of three races: Asian; Native Hawaiian and Other Pacific Islander; Some Other Race',\n",
       " 'Total Population: Population of three races: Black or African American; American Indian and Alaska Native; Asian',\n",
       " 'Total Population: Population of three races: Black or African American; American Indian and Alaska Native; Native Hawaiian and Other Pacific Islander',\n",
       " 'Total Population: Population of three races: Black or African American; American Indian and Alaska Native; Some Other Race',\n",
       " 'Total Population: Population of three races: Black or African American; Asian; Native Hawaiian and Other Pacific Islander',\n",
       " 'Total Population: Population of three races: Black or African American; Asian; Some Other Race',\n",
       " 'Total Population: Population of three races: Black or African American; Native Hawaiian and Other Pacific Islander; Some Other Race',\n",
       " 'Total Population: Population of three races: White; American Indian and Alaska Native; Asian',\n",
       " 'Total Population: Population of three races: White; American Indian and Alaska Native; Native Hawaiian and Other Pacific Islander',\n",
       " 'Total Population: Population of three races: White; American Indian and Alaska Native; Some Other Race',\n",
       " 'Total Population: Population of three races: White; Asian; Native Hawaiian and Other Pacific Islander',\n",
       " 'Total Population: Population of three races: White; Asian; Some Other Race',\n",
       " 'Total Population: Population of three races: White; Black or African American; American Indian and Alaska Native',\n",
       " 'Total Population: Population of three races: White; Black or African American; Asian',\n",
       " 'Total Population: Population of three races: White; Black or African American; Native Hawaiian and Other Pacific Islander',\n",
       " 'Total Population: Population of three races: White; Black or African American; Some Other Race',\n",
       " 'Total Population: Population of three races: White; Native Hawaiian and Other Pacific Islander; Some Other Race',\n",
       " 'Total Population: Population of two or more races',\n",
       " 'Total Population: Population of two or more races: American Indian and Alaska Native; Asian',\n",
       " 'Total Population: Population of two or more races: American Indian and Alaska Native; Native Hawaiian and Other Pacific Islander',\n",
       " 'Total Population: Population of two or more races: American Indian and Alaska Native; Some Other Race',\n",
       " 'Total Population: Population of two or more races: Asian; Native Hawaiian and Other Pacific Islander',\n",
       " 'Total Population: Population of two or more races: Asian; Some Other Race',\n",
       " 'Total Population: Population of two or more races: Black or African American; American Indian and Alaska Native',\n",
       " 'Total Population: Population of two or more races: Black or African American; Asian',\n",
       " 'Total Population: Population of two or more races: Black or African American; Native Hawaiian and Other Pacific Islander',\n",
       " 'Total Population: Population of two or more races: Black or African American; Some Other Race',\n",
       " 'Total Population: Population of two or more races: Native Hawaiian and Other Pacific Islander; Some Other Race',\n",
       " 'Total Population: Population of two or more races: Population of two races',\n",
       " 'Total Population: Population of two or more races: White; American Indian and Alaska Native',\n",
       " 'Total Population: Population of two or more races: White; Asian',\n",
       " 'Total Population: Population of two or more races: White; Black or African American',\n",
       " 'Total Population: Population of two or more races: White; Native Hawaiian and Other Pacific Islander',\n",
       " 'Total Population: Population of two or more races: White; Some Other Race',\n",
       " 'Tract Number',\n",
       " 'Vacant Housing Units',\n",
       " 'Shape',\n",
       " 'x',\n",
       " 'y']"
      ]
     },
     "execution_count": 107,
     "metadata": {},
     "output_type": "execute_result"
    }
   ],
   "source": [
    "list(demo_df.columns)"
   ]
  },
  {
   "cell_type": "code",
   "execution_count": 108,
   "metadata": {},
   "outputs": [
    {
     "name": "stdout",
     "output_type": "stream",
     "text": [
      "101\n",
      "11001000101\n",
      "11001000101\n"
     ]
    }
   ],
   "source": [
    "print(demo_df['Tract Number'][0])\n",
    "print(demo_df['GEOID'][0])\n",
    "print(demo_df['Geographic Code Identifier'][0])"
   ]
  },
  {
   "cell_type": "code",
   "execution_count": 109,
   "metadata": {},
   "outputs": [
    {
     "data": {
      "text/plain": [
       "0    11001000101\n",
       "1    11001000102\n",
       "2    11001000201\n",
       "3    11001000202\n",
       "4    11001000300\n",
       "Name: GEOID, dtype: int64"
      ]
     },
     "execution_count": 109,
     "metadata": {},
     "output_type": "execute_result"
    }
   ],
   "source": [
    "demo_df['GEOID'].head()"
   ]
  },
  {
   "cell_type": "code",
   "execution_count": 110,
   "metadata": {},
   "outputs": [
    {
     "data": {
      "text/plain": [
       "206"
      ]
     },
     "execution_count": 110,
     "metadata": {},
     "output_type": "execute_result"
    }
   ],
   "source": [
    "demo_df['GEOID'].nunique()"
   ]
  },
  {
   "cell_type": "code",
   "execution_count": 12,
   "metadata": {},
   "outputs": [],
   "source": [
    "demo_df_small = demo_df[['GEOID',\n",
    "                         'Hispanic 18+ Pop',\n",
    "                         '18+ Pop 1 race: Asian',\n",
    "                         '18+ Pop 1 race: Black',\n",
    "                         '18+ Pop 1 race: White',\n",
    "                         'Total Housing Units',\n",
    "                         'Occupied Housing Units',\n",
    "                         'Vacant Housing Units',\n",
    "                        ]]"
   ]
  },
  {
   "cell_type": "code",
   "execution_count": 256,
   "metadata": {},
   "outputs": [
    {
     "data": {
      "text/html": [
       "<div>\n",
       "<style scoped>\n",
       "    .dataframe tbody tr th:only-of-type {\n",
       "        vertical-align: middle;\n",
       "    }\n",
       "\n",
       "    .dataframe tbody tr th {\n",
       "        vertical-align: top;\n",
       "    }\n",
       "\n",
       "    .dataframe thead th {\n",
       "        text-align: right;\n",
       "    }\n",
       "</style>\n",
       "<table border=\"1\" class=\"dataframe\">\n",
       "  <thead>\n",
       "    <tr style=\"text-align: right;\">\n",
       "      <th></th>\n",
       "      <th>GEOID</th>\n",
       "      <th>Hispanic 18+ Pop</th>\n",
       "      <th>18+ Pop 1 race: Asian</th>\n",
       "      <th>18+ Pop 1 race: Black</th>\n",
       "      <th>18+ Pop 1 race: White</th>\n",
       "      <th>Total Housing Units</th>\n",
       "      <th>Occupied Housing Units</th>\n",
       "      <th>Vacant Housing Units</th>\n",
       "    </tr>\n",
       "  </thead>\n",
       "  <tbody>\n",
       "    <tr>\n",
       "      <th>0</th>\n",
       "      <td>11001000101</td>\n",
       "      <td>123</td>\n",
       "      <td>90</td>\n",
       "      <td>39</td>\n",
       "      <td>1005</td>\n",
       "      <td>999</td>\n",
       "      <td>865</td>\n",
       "      <td>134</td>\n",
       "    </tr>\n",
       "    <tr>\n",
       "      <th>1</th>\n",
       "      <td>11001000102</td>\n",
       "      <td>248</td>\n",
       "      <td>161</td>\n",
       "      <td>53</td>\n",
       "      <td>2427</td>\n",
       "      <td>2053</td>\n",
       "      <td>1724</td>\n",
       "      <td>329</td>\n",
       "    </tr>\n",
       "    <tr>\n",
       "      <th>2</th>\n",
       "      <td>11001000201</td>\n",
       "      <td>435</td>\n",
       "      <td>624</td>\n",
       "      <td>346</td>\n",
       "      <td>2535</td>\n",
       "      <td>11</td>\n",
       "      <td>11</td>\n",
       "      <td>0</td>\n",
       "    </tr>\n",
       "    <tr>\n",
       "      <th>3</th>\n",
       "      <td>11001000202</td>\n",
       "      <td>313</td>\n",
       "      <td>380</td>\n",
       "      <td>182</td>\n",
       "      <td>3236</td>\n",
       "      <td>2169</td>\n",
       "      <td>1814</td>\n",
       "      <td>355</td>\n",
       "    </tr>\n",
       "    <tr>\n",
       "      <th>4</th>\n",
       "      <td>11001000300</td>\n",
       "      <td>442</td>\n",
       "      <td>433</td>\n",
       "      <td>223</td>\n",
       "      <td>3861</td>\n",
       "      <td>2845</td>\n",
       "      <td>2634</td>\n",
       "      <td>211</td>\n",
       "    </tr>\n",
       "  </tbody>\n",
       "</table>\n",
       "</div>"
      ],
      "text/plain": [
       "         GEOID  Hispanic 18+ Pop  18+ Pop 1 race: Asian  \\\n",
       "0  11001000101               123                     90   \n",
       "1  11001000102               248                    161   \n",
       "2  11001000201               435                    624   \n",
       "3  11001000202               313                    380   \n",
       "4  11001000300               442                    433   \n",
       "\n",
       "   18+ Pop 1 race: Black  18+ Pop 1 race: White  Total Housing Units  \\\n",
       "0                     39                   1005                  999   \n",
       "1                     53                   2427                 2053   \n",
       "2                    346                   2535                   11   \n",
       "3                    182                   3236                 2169   \n",
       "4                    223                   3861                 2845   \n",
       "\n",
       "   Occupied Housing Units  Vacant Housing Units  \n",
       "0                     865                   134  \n",
       "1                    1724                   329  \n",
       "2                      11                     0  \n",
       "3                    1814                   355  \n",
       "4                    2634                   211  "
      ]
     },
     "execution_count": 256,
     "metadata": {},
     "output_type": "execute_result"
    }
   ],
   "source": [
    "demo_df_small.head()"
   ]
  },
  {
   "cell_type": "code",
   "execution_count": 260,
   "metadata": {
    "collapsed": true,
    "jupyter": {
     "outputs_hidden": true
    },
    "tags": []
   },
   "outputs": [
    {
     "data": {
      "text/plain": [
       "['Census Tract',\n",
       " 'Area Land',\n",
       " 'Area Water',\n",
       " 'BEDROOMS: Total housing units',\n",
       " 'BEDROOMS: Total housing units: 1 bedroom',\n",
       " 'BEDROOMS: Total housing units: 2 bedrooms',\n",
       " 'BEDROOMS: Total housing units: 3 bedrooms',\n",
       " 'BEDROOMS: Total housing units: 4 bedrooms',\n",
       " 'BEDROOMS: Total housing units: 5 or more bedrooms',\n",
       " 'BEDROOMS: Total housing units: No bedroom',\n",
       " 'GEO Identifier',\n",
       " 'GROSS RENT AS A PERCENTAGE OF HOUSEHOLD INCOME (GRAPI): Occupied units paying rent (excluding units where GRAPI cannot be computed)',\n",
       " 'GROSS RENT AS A PERCENTAGE OF HOUSEHOLD INCOME (GRAPI): Occupied units paying rent (excluding units where GRAPI cannot be computed): 15.0 to 19.9 percent',\n",
       " 'GROSS RENT AS A PERCENTAGE OF HOUSEHOLD INCOME (GRAPI): Occupied units paying rent (excluding units where GRAPI cannot be computed): 20.0 to 24.9 percent',\n",
       " 'GROSS RENT AS A PERCENTAGE OF HOUSEHOLD INCOME (GRAPI): Occupied units paying rent (excluding units where GRAPI cannot be computed): 25.0 to 29.9 percent',\n",
       " 'GROSS RENT AS A PERCENTAGE OF HOUSEHOLD INCOME (GRAPI): Occupied units paying rent (excluding units where GRAPI cannot be computed): 30.0 to 34.9 percent',\n",
       " 'GROSS RENT AS A PERCENTAGE OF HOUSEHOLD INCOME (GRAPI): Occupied units paying rent (excluding units where GRAPI cannot be computed): 35.0 percent or more',\n",
       " 'GROSS RENT AS A PERCENTAGE OF HOUSEHOLD INCOME (GRAPI): Occupied units paying rent (excluding units where GRAPI cannot be computed): Less than 15.0 percent',\n",
       " 'GROSS RENT AS A PERCENTAGE OF HOUSEHOLD INCOME (GRAPI): Occupied units paying rent (excluding units where GRAPI cannot be computed): Not computed',\n",
       " 'GROSS RENT: Occupied units paying rent',\n",
       " 'GROSS RENT: Occupied units paying rent: $1,000 to $1,499',\n",
       " 'GROSS RENT: Occupied units paying rent: $1,500 to $1,999',\n",
       " 'GROSS RENT: Occupied units paying rent: $2,000 to $2,499',\n",
       " 'GROSS RENT: Occupied units paying rent: $2,500 to $2,999',\n",
       " 'GROSS RENT: Occupied units paying rent: $3,000 or more',\n",
       " 'GROSS RENT: Occupied units paying rent: $500 to $999',\n",
       " 'GROSS RENT: Occupied units paying rent: Less than $500',\n",
       " 'GROSS RENT: Occupied units paying rent: Median (dollars)',\n",
       " 'GROSS RENT: Occupied units paying rent: No rent paid',\n",
       " 'HOUSE HEATING FUEL: Occupied housing units',\n",
       " 'HOUSE HEATING FUEL: Occupied housing units: Bottled, tank, or LP gas',\n",
       " 'HOUSE HEATING FUEL: Occupied housing units: Coal or coke',\n",
       " 'HOUSE HEATING FUEL: Occupied housing units: Electricity',\n",
       " 'HOUSE HEATING FUEL: Occupied housing units: Fuel oil, kerosene, etc.',\n",
       " 'HOUSE HEATING FUEL: Occupied housing units: No fuel used',\n",
       " 'HOUSE HEATING FUEL: Occupied housing units: Other fuel',\n",
       " 'HOUSE HEATING FUEL: Occupied housing units: Solar energy',\n",
       " 'HOUSE HEATING FUEL: Occupied housing units: Utility gas',\n",
       " 'HOUSE HEATING FUEL: Occupied housing units: Wood',\n",
       " 'HOUSING OCCUPANCY: Total housing units',\n",
       " 'HOUSING OCCUPANCY: Total housing units: Homeowner vacancy rate',\n",
       " 'HOUSING OCCUPANCY: Total housing units: Occupied housing units',\n",
       " 'HOUSING OCCUPANCY: Total housing units: Rental vacancy rate',\n",
       " 'HOUSING OCCUPANCY: Total housing units: Vacant housing units',\n",
       " 'HOUSING TENURE: Occupied housing units',\n",
       " 'HOUSING TENURE: Occupied housing units: Average household size of owner-occupied unit',\n",
       " 'HOUSING TENURE: Occupied housing units: Average household size of renter-occupied unit',\n",
       " 'HOUSING TENURE: Occupied housing units: Owner-occupied',\n",
       " 'HOUSING TENURE: Occupied housing units: Renter-occupied',\n",
       " 'MORTGAGE STATUS: Owner-occupied units',\n",
       " 'MORTGAGE STATUS: Owner-occupied units: Housing units with a mortgage',\n",
       " 'MORTGAGE STATUS: Owner-occupied units: Housing units without a mortgage',\n",
       " 'OCCUPANTS PER ROOM: Occupied housing units',\n",
       " 'OCCUPANTS PER ROOM: Occupied housing units: 1.00 or less',\n",
       " 'OCCUPANTS PER ROOM: Occupied housing units: 1.01 to 1.50',\n",
       " 'OCCUPANTS PER ROOM: Occupied housing units: 1.51 or more',\n",
       " 'ROOMS: Total housing units',\n",
       " 'ROOMS: Total housing units: 1 room',\n",
       " 'ROOMS: Total housing units: 2 rooms',\n",
       " 'ROOMS: Total housing units: 3 rooms',\n",
       " 'ROOMS: Total housing units: 4 rooms',\n",
       " 'ROOMS: Total housing units: 5 rooms',\n",
       " 'ROOMS: Total housing units: 6 rooms',\n",
       " 'ROOMS: Total housing units: 7 rooms',\n",
       " 'ROOMS: Total housing units: 8 rooms',\n",
       " 'ROOMS: Total housing units: 9 rooms or more',\n",
       " 'ROOMS: Total housing units: Median rooms',\n",
       " 'SELECTED CHARACTERISTICS: Occupied housing units',\n",
       " 'SELECTED CHARACTERISTICS: Occupied housing units: Lacking complete kitchen facilities',\n",
       " 'SELECTED CHARACTERISTICS: Occupied housing units: Lacking complete plumbing facilities',\n",
       " 'SELECTED CHARACTERISTICS: Occupied housing units: No telephone service available',\n",
       " 'SELECTED MONTHLY OWNER COSTS (SMOC): Housing units with a mortgage',\n",
       " 'SELECTED MONTHLY OWNER COSTS (SMOC): Housing units with a mortgage: $1,000 to $1,499',\n",
       " 'SELECTED MONTHLY OWNER COSTS (SMOC): Housing units with a mortgage: $1,500 to $1,999',\n",
       " 'SELECTED MONTHLY OWNER COSTS (SMOC): Housing units with a mortgage: $2,000 to $2,499',\n",
       " 'SELECTED MONTHLY OWNER COSTS (SMOC): Housing units with a mortgage: $2,500 to $2,999',\n",
       " 'SELECTED MONTHLY OWNER COSTS (SMOC): Housing units with a mortgage: $3,000 or more',\n",
       " 'SELECTED MONTHLY OWNER COSTS (SMOC): Housing units with a mortgage: $500 to $999',\n",
       " 'SELECTED MONTHLY OWNER COSTS (SMOC): Housing units with a mortgage: Less than $500',\n",
       " 'SELECTED MONTHLY OWNER COSTS (SMOC): Housing units with a mortgage: Median (dollars)',\n",
       " 'SELECTED MONTHLY OWNER COSTS (SMOC): Housing units without a mortgage',\n",
       " 'SELECTED MONTHLY OWNER COSTS (SMOC): Housing units without a mortgage: $1,000 or more',\n",
       " 'SELECTED MONTHLY OWNER COSTS (SMOC): Housing units without a mortgage: $250 to $399',\n",
       " 'SELECTED MONTHLY OWNER COSTS (SMOC): Housing units without a mortgage: $400 to $599',\n",
       " 'SELECTED MONTHLY OWNER COSTS (SMOC): Housing units without a mortgage: $600 to $799',\n",
       " 'SELECTED MONTHLY OWNER COSTS (SMOC): Housing units without a mortgage: $800 to $999',\n",
       " 'SELECTED MONTHLY OWNER COSTS (SMOC): Housing units without a mortgage: Less than $250',\n",
       " 'SELECTED MONTHLY OWNER COSTS (SMOC): Housing units without a mortgage: Median (dollars)',\n",
       " 'SELECTED MONTHLY OWNER COSTS AS A PERCENTAGE OF HOUSEHOLD INCOME (SMOCAPI): Housing unit without a mortgage (excluding units where SMOCAPI cannot be computed)',\n",
       " 'SELECTED MONTHLY OWNER COSTS AS A PERCENTAGE OF HOUSEHOLD INCOME (SMOCAPI): Housing unit without a mortgage (excluding units where SMOCAPI cannot be computed): 10.0 to 14.9 percent',\n",
       " 'SELECTED MONTHLY OWNER COSTS AS A PERCENTAGE OF HOUSEHOLD INCOME (SMOCAPI): Housing unit without a mortgage (excluding units where SMOCAPI cannot be computed): 15.0 to 19.9 percent',\n",
       " 'SELECTED MONTHLY OWNER COSTS AS A PERCENTAGE OF HOUSEHOLD INCOME (SMOCAPI): Housing unit without a mortgage (excluding units where SMOCAPI cannot be computed): 20.0 to 24.9 percent',\n",
       " 'SELECTED MONTHLY OWNER COSTS AS A PERCENTAGE OF HOUSEHOLD INCOME (SMOCAPI): Housing unit without a mortgage (excluding units where SMOCAPI cannot be computed): 25.0 to 29.9 percent',\n",
       " 'SELECTED MONTHLY OWNER COSTS AS A PERCENTAGE OF HOUSEHOLD INCOME (SMOCAPI): Housing unit without a mortgage (excluding units where SMOCAPI cannot be computed): 30.0 to 34.9 percent',\n",
       " 'SELECTED MONTHLY OWNER COSTS AS A PERCENTAGE OF HOUSEHOLD INCOME (SMOCAPI): Housing unit without a mortgage (excluding units where SMOCAPI cannot be computed): 35.0 percent or more',\n",
       " 'SELECTED MONTHLY OWNER COSTS AS A PERCENTAGE OF HOUSEHOLD INCOME (SMOCAPI): Housing unit without a mortgage (excluding units where SMOCAPI cannot be computed): Less than 10.0 percent',\n",
       " 'SELECTED MONTHLY OWNER COSTS AS A PERCENTAGE OF HOUSEHOLD INCOME (SMOCAPI): Housing unit without a mortgage (excluding units where SMOCAPI cannot be computed): Not computed',\n",
       " 'SELECTED MONTHLY OWNER COSTS AS A PERCENTAGE OF HOUSEHOLD INCOME (SMOCAPI): Housing units with a mortgage (excluding units where SMOCAPI cannot be computed)',\n",
       " 'SELECTED MONTHLY OWNER COSTS AS A PERCENTAGE OF HOUSEHOLD INCOME (SMOCAPI): Housing units with a mortgage (excluding units where SMOCAPI cannot be computed): 20.0 to 24.9 percent',\n",
       " 'SELECTED MONTHLY OWNER COSTS AS A PERCENTAGE OF HOUSEHOLD INCOME (SMOCAPI): Housing units with a mortgage (excluding units where SMOCAPI cannot be computed): 25.0 to 29.9 percent',\n",
       " 'SELECTED MONTHLY OWNER COSTS AS A PERCENTAGE OF HOUSEHOLD INCOME (SMOCAPI): Housing units with a mortgage (excluding units where SMOCAPI cannot be computed): 30.0 to 34.9 percent',\n",
       " 'SELECTED MONTHLY OWNER COSTS AS A PERCENTAGE OF HOUSEHOLD INCOME (SMOCAPI): Housing units with a mortgage (excluding units where SMOCAPI cannot be computed): 35.0 percent or more',\n",
       " 'SELECTED MONTHLY OWNER COSTS AS A PERCENTAGE OF HOUSEHOLD INCOME (SMOCAPI): Housing units with a mortgage (excluding units where SMOCAPI cannot be computed): Less than 20.0 percent',\n",
       " 'SELECTED MONTHLY OWNER COSTS AS A PERCENTAGE OF HOUSEHOLD INCOME (SMOCAPI): Housing units with a mortgage (excluding units where SMOCAPI cannot be computed): Not computed',\n",
       " 'UNITS IN STRUCTURE: Total housing units',\n",
       " 'UNITS IN STRUCTURE: Total housing units: 1-unit, attached',\n",
       " 'UNITS IN STRUCTURE: Total housing units: 1-unit, detached',\n",
       " 'UNITS IN STRUCTURE: Total housing units: 10 to 19 units',\n",
       " 'UNITS IN STRUCTURE: Total housing units: 2 units',\n",
       " 'UNITS IN STRUCTURE: Total housing units: 20 or more units',\n",
       " 'UNITS IN STRUCTURE: Total housing units: 3 or 4 units',\n",
       " 'UNITS IN STRUCTURE: Total housing units: 5 to 9 units',\n",
       " 'UNITS IN STRUCTURE: Total housing units: Boat, RV, van, etc.',\n",
       " 'UNITS IN STRUCTURE: Total housing units: Mobile home',\n",
       " 'VALUE: Owner-occupied units',\n",
       " 'VALUE: Owner-occupied units: $1,000,000 or more',\n",
       " 'VALUE: Owner-occupied units: $100,000 to $149,999',\n",
       " 'VALUE: Owner-occupied units: $150,000 to $199,999',\n",
       " 'VALUE: Owner-occupied units: $200,000 to $299,999',\n",
       " 'VALUE: Owner-occupied units: $300,000 to $499,999',\n",
       " 'VALUE: Owner-occupied units: $50,000 to $99,999',\n",
       " 'VALUE: Owner-occupied units: $500,000 to $999,999',\n",
       " 'VALUE: Owner-occupied units: Less than $50,000',\n",
       " 'VALUE: Owner-occupied units: Median (dollars)',\n",
       " 'VEHICLES AVAILABLE: Occupied housing units',\n",
       " 'VEHICLES AVAILABLE: Occupied housing units: 1 vehicle available',\n",
       " 'VEHICLES AVAILABLE: Occupied housing units: 2 vehicles available',\n",
       " 'VEHICLES AVAILABLE: Occupied housing units: 3 or more vehicles available',\n",
       " 'VEHICLES AVAILABLE: Occupied housing units: No vehicles available',\n",
       " 'YEAR HOUSEHOLDER MOVED INTO UNIT: Occupied housing units',\n",
       " 'YEAR HOUSEHOLDER MOVED INTO UNIT: Occupied housing units: Moved in 1989 and earlier',\n",
       " 'YEAR HOUSEHOLDER MOVED INTO UNIT: Occupied housing units: Moved in 1990 to 1999',\n",
       " 'YEAR HOUSEHOLDER MOVED INTO UNIT: Occupied housing units: Moved in 2000 to 2009',\n",
       " 'YEAR HOUSEHOLDER MOVED INTO UNIT: Occupied housing units: Moved in 2010 to 2014',\n",
       " 'YEAR HOUSEHOLDER MOVED INTO UNIT: Occupied housing units: Moved in 2015 to 2016',\n",
       " 'YEAR HOUSEHOLDER MOVED INTO UNIT: Occupied housing units: Moved in 2017 or later',\n",
       " 'YEAR STRUCTURE BUILT: Total housing units',\n",
       " 'YEAR STRUCTURE BUILT: Total housing units: Built 1939 or earlier',\n",
       " 'YEAR STRUCTURE BUILT: Total housing units: Built 1940 to 1949',\n",
       " 'YEAR STRUCTURE BUILT: Total housing units: Built 1950 to 1959',\n",
       " 'YEAR STRUCTURE BUILT: Total housing units: Built 1960 to 1969',\n",
       " 'YEAR STRUCTURE BUILT: Total housing units: Built 1970 to 1979',\n",
       " 'YEAR STRUCTURE BUILT: Total housing units: Built 1980 to 1989',\n",
       " 'YEAR STRUCTURE BUILT: Total housing units: Built 1990 to 1999',\n",
       " 'SHAPE',\n",
       " 'x',\n",
       " 'y']"
      ]
     },
     "execution_count": 260,
     "metadata": {},
     "output_type": "execute_result"
    }
   ],
   "source": [
    "list(housing_df.columns) "
   ]
  },
  {
   "cell_type": "code",
   "execution_count": 261,
   "metadata": {},
   "outputs": [
    {
     "data": {
      "text/plain": [
       "0    11001000100\n",
       "1    11001000201\n",
       "2    11001000202\n",
       "3    11001000300\n",
       "4    11001000400\n",
       "Name: GEO Identifier, dtype: int64"
      ]
     },
     "execution_count": 261,
     "metadata": {},
     "output_type": "execute_result"
    }
   ],
   "source": [
    "housing_df['GEO Identifier'].head()"
   ]
  },
  {
   "cell_type": "code",
   "execution_count": 262,
   "metadata": {},
   "outputs": [
    {
     "data": {
      "text/plain": [
       "(179, 147)"
      ]
     },
     "execution_count": 262,
     "metadata": {},
     "output_type": "execute_result"
    }
   ],
   "source": [
    "housing_df.shape"
   ]
  },
  {
   "cell_type": "code",
   "execution_count": 263,
   "metadata": {},
   "outputs": [
    {
     "data": {
      "text/plain": [
       "179"
      ]
     },
     "execution_count": 263,
     "metadata": {},
     "output_type": "execute_result"
    }
   ],
   "source": [
    "housing_df['GEO Identifier'].nunique()"
   ]
  },
  {
   "cell_type": "code",
   "execution_count": 9,
   "metadata": {},
   "outputs": [],
   "source": [
    "housing_df_small = housing_df[['GEO Identifier',\n",
    "                               'GROSS RENT: Occupied units paying rent: Median (dollars)',\n",
    "                               'GROSS RENT AS A PERCENTAGE OF HOUSEHOLD INCOME (GRAPI): Occupied units paying rent (excluding units where GRAPI cannot be computed): 35.0 percent or more',\n",
    "                               'HOUSING TENURE: Occupied housing units: Average household size of owner-occupied unit',\n",
    "                               'HOUSING TENURE: Occupied housing units: Average household size of renter-occupied unit',\n",
    "                               'HOUSING TENURE: Occupied housing units: Owner-occupied',\n",
    "                               'HOUSING TENURE: Occupied housing units: Renter-occupied',\n",
    "                               'SELECTED MONTHLY OWNER COSTS AS A PERCENTAGE OF HOUSEHOLD INCOME (SMOCAPI): Housing unit without a mortgage (excluding units where SMOCAPI cannot be computed): 35.0 percent or more',\n",
    "                               'SELECTED MONTHLY OWNER COSTS AS A PERCENTAGE OF HOUSEHOLD INCOME (SMOCAPI): Housing units with a mortgage (excluding units where SMOCAPI cannot be computed): 35.0 percent or more',\n",
    "                               'VALUE: Owner-occupied units: Median (dollars)',\n",
    "                               'YEAR HOUSEHOLDER MOVED INTO UNIT: Occupied housing units: Moved in 2017 or later',\n",
    "                              ]]"
   ]
  },
  {
   "cell_type": "code",
   "execution_count": 10,
   "metadata": {},
   "outputs": [],
   "source": [
    "housing_df_small = housing_df_small.rename(columns={'GEO Identifier': 'GEOID'})"
   ]
  },
  {
   "cell_type": "code",
   "execution_count": 13,
   "metadata": {},
   "outputs": [
    {
     "data": {
      "text/plain": [
       "(206, 18)"
      ]
     },
     "execution_count": 13,
     "metadata": {},
     "output_type": "execute_result"
    }
   ],
   "source": [
    "joined_df = demo_df_small.merge(housing_df_small, how=\"left\", on=\"GEOID\")\n",
    "joined_df.shape"
   ]
  },
  {
   "cell_type": "code",
   "execution_count": 121,
   "metadata": {},
   "outputs": [
    {
     "data": {
      "text/plain": [
       "Index(['GEOID', 'Hispanic 18+ Pop', '18+ Pop 1 race: Asian',\n",
       "       '18+ Pop 1 race: Black', '18+ Pop 1 race: White', 'Total Housing Units',\n",
       "       'Occupied Housing Units', 'Vacant Housing Units',\n",
       "       'GROSS RENT: Occupied units paying rent: Median (dollars)',\n",
       "       'GROSS RENT AS A PERCENTAGE OF HOUSEHOLD INCOME (GRAPI): Occupied units paying rent (excluding units where GRAPI cannot be computed): 35.0 percent or more',\n",
       "       'HOUSING TENURE: Occupied housing units: Average household size of owner-occupied unit',\n",
       "       'HOUSING TENURE: Occupied housing units: Average household size of renter-occupied unit',\n",
       "       'HOUSING TENURE: Occupied housing units: Owner-occupied',\n",
       "       'HOUSING TENURE: Occupied housing units: Renter-occupied',\n",
       "       'SELECTED MONTHLY OWNER COSTS AS A PERCENTAGE OF HOUSEHOLD INCOME (SMOCAPI): Housing unit without a mortgage (excluding units where SMOCAPI cannot be computed): 35.0 percent or more',\n",
       "       'SELECTED MONTHLY OWNER COSTS AS A PERCENTAGE OF HOUSEHOLD INCOME (SMOCAPI): Housing units with a mortgage (excluding units where SMOCAPI cannot be computed): 35.0 percent or more',\n",
       "       'VALUE: Owner-occupied units: Median (dollars)',\n",
       "       'YEAR HOUSEHOLDER MOVED INTO UNIT: Occupied housing units: Moved in 2017 or later'],\n",
       "      dtype='object')"
      ]
     },
     "execution_count": 121,
     "metadata": {},
     "output_type": "execute_result"
    }
   ],
   "source": [
    "joined_df.columns"
   ]
  },
  {
   "cell_type": "code",
   "execution_count": 14,
   "metadata": {},
   "outputs": [],
   "source": [
    "joined_df['GEOID'] = joined_df.GEOID.astype(str)"
   ]
  },
  {
   "cell_type": "code",
   "execution_count": 15,
   "metadata": {},
   "outputs": [],
   "source": [
    "gj_data = geojson.merge(joined_df, how=\"left\", on=\"GEOID\")"
   ]
  },
  {
   "cell_type": "markdown",
   "metadata": {},
   "source": [
    "## Construct map"
   ]
  },
  {
   "cell_type": "code",
   "execution_count": 179,
   "metadata": {},
   "outputs": [],
   "source": [
    "def make_map(layers: dict):\n",
    "    m = Map(location = (38.8899, -77.0091),\n",
    "            zoom_start = 12,\n",
    "            tiles = 'Stamen Toner',\n",
    "           )\n",
    "    for layer in layers:\n",
    "        c = folium.Choropleth(\n",
    "            geo_data=gj_path,\n",
    "            data=gj_data,\n",
    "            columns=['GEOID', layer],\n",
    "            key_on='feature.properties.GEOID',\n",
    "            fill_color=layers[layer][1],\n",
    "            fill_opacity=layers[layer][2],\n",
    "            nan_fill_opacity=0,\n",
    "            line_opacity=1,  \n",
    "            highlight=True,\n",
    "            overlay=True,\n",
    "            name=layers[layer][0],\n",
    "            legend_name=layers[layer][0],\n",
    "        )\n",
    "        \n",
    "        for key in c._children:\n",
    "            if key.startswith('color_map'):\n",
    "                del(c._children[key])\n",
    "        \n",
    "        c.add_to(m)\n",
    "    LayerControl().add_to(m)    \n",
    "    return m"
   ]
  },
  {
   "cell_type": "code",
   "execution_count": 183,
   "metadata": {},
   "outputs": [],
   "source": [
    "layers = {\n",
    "    #'Total Housing Units': ('Total Housing Units', 'Blues', 0.5),\n",
    "    #'Vacant Housing Units': ('Vacant Housing Units', 'GnBu', 0.5),\n",
    "    #'HOUSING TENURE: Occupied housing units: Renter-occupied': ('Renter-occupied Units', 'Greens', 0.5),\n",
    "    #'SELECTED MONTHLY OWNER COSTS AS A PERCENTAGE OF HOUSEHOLD INCOME (SMOCAPI): Housing unit without a mortgage (excluding units where SMOCAPI cannot be computed): 35.0 percent or more': ('SMOCAPI no mortgage', 'YlOrBr', 0.5),\n",
    "    #'SELECTED MONTHLY OWNER COSTS AS A PERCENTAGE OF HOUSEHOLD INCOME (SMOCAPI): Housing units with a mortgage (excluding units where SMOCAPI cannot be computed): 35.0 percent or more': ('SMOCAPI with mortgage', 'YlOrBr', 0.5),\n",
    "    #'VALUE: Owner-occupied units: Median (dollars)': ('Median Value', 'Greens', 0.7),\n",
    "    #'YEAR HOUSEHOLDER MOVED INTO UNIT: Occupied housing units: Moved in 2017 or later': ('Moved in last 5 years', 'OrRd', 0.5),\n",
    "    #'GROSS RENT AS A PERCENTAGE OF HOUSEHOLD INCOME (GRAPI): Occupied units paying rent (excluding units where GRAPI cannot be computed): 35.0 percent or more': ('GRAPI', 'OrRd', 0.7),\n",
    "    #'GROSS RENT: Occupied units paying rent: Median (dollars)': ('Median Gross Rent', 'RdPu', 0.7),\n",
    "    #'18+ Pop 1 race: White': ('White 18+', 'RdPu', 0.7),\n",
    "    #'18+ Pop 1 race: Black': ('Black 18+', 'RdPu', 0.7),\n",
    "    '18+ Pop 1 race: Asian': ('Asian 18+', 'RdPu', 0.7),\n",
    "    #'Hispanic 18+ Pop': ('Hispanic 18+', 'RdPu', 0.7),\n",
    "}"
   ]
  },
  {
   "cell_type": "code",
   "execution_count": 184,
   "metadata": {},
   "outputs": [],
   "source": [
    "m = make_map(layers)"
   ]
  },
  {
   "cell_type": "code",
   "execution_count": 182,
   "metadata": {},
   "outputs": [],
   "source": [
    "save_map(m, 'median_gross_rent+GRAPI')"
   ]
  },
  {
   "cell_type": "code",
   "execution_count": 185,
   "metadata": {},
   "outputs": [
    {
     "data": {
      "text/html": [
       "\n",
       "        <iframe\n",
       "            width=\"100%\"\n",
       "            height=\"750px\"\n",
       "            src=\"inline_map.html\"\n",
       "            frameborder=\"0\"\n",
       "            allowfullscreen\n",
       "            \n",
       "        ></iframe>\n",
       "        "
      ],
      "text/plain": [
       "<IPython.lib.display.IFrame at 0x7fd871913950>"
      ]
     },
     "execution_count": 185,
     "metadata": {},
     "output_type": "execute_result"
    }
   ],
   "source": [
    "embed_map(m)"
   ]
  },
  {
   "cell_type": "code",
   "execution_count": 99,
   "metadata": {},
   "outputs": [],
   "source": [
    "import os\n",
    "import time\n",
    "from selenium import webdriver"
   ]
  },
  {
   "cell_type": "code",
   "execution_count": 100,
   "metadata": {},
   "outputs": [],
   "source": [
    "def save_map(m, name):\n",
    "    delay=5\n",
    " \n",
    "    #Save the map as an HTML file\n",
    "    fout='output.html'\n",
    "    tmpurl='file://{path}/{mapfile}'.format(path=os.getcwd(),mapfile=fout)\n",
    "    m.save(fout)\n",
    " \n",
    "    #Open a browser window...\n",
    "    browser = webdriver.Firefox()\n",
    "    #..that displays the map...\n",
    "    browser.get(tmpurl)\n",
    "    #Give the map tiles some time to load\n",
    "    time.sleep(delay)\n",
    "    #Grab the screenshot\n",
    "    browser.save_screenshot('maps/{name}.png'.format(name=name))\n",
    "    #Close the browser\n",
    "    browser.quit()\n",
    "    return"
   ]
  },
  {
   "cell_type": "code",
   "execution_count": null,
   "metadata": {},
   "outputs": [],
   "source": []
  }
 ],
 "metadata": {
  "kernelspec": {
   "display_name": "Python 3 (ipykernel)",
   "language": "python",
   "name": "python3"
  },
  "language_info": {
   "codemirror_mode": {
    "name": "ipython",
    "version": 3
   },
   "file_extension": ".py",
   "mimetype": "text/x-python",
   "name": "python",
   "nbconvert_exporter": "python",
   "pygments_lexer": "ipython3",
   "version": "3.7.13"
  }
 },
 "nbformat": 4,
 "nbformat_minor": 4
}
